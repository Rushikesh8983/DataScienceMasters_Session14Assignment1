{
 "cells": [
  {
   "cell_type": "code",
   "execution_count": 1,
   "metadata": {},
   "outputs": [],
   "source": [
    "import sqlalchemy\n",
    "import pandas as pd\n",
    "from sqlalchemy import create_engine"
   ]
  },
  {
   "cell_type": "code",
   "execution_count": 2,
   "metadata": {},
   "outputs": [],
   "source": [
    "df = pd.read_csv('https://archive.ics.uci.edu/ml/machine-learning-databases/adult/adult.data',sep=\",\",header=None)\n"
   ]
  },
  {
   "cell_type": "code",
   "execution_count": 3,
   "metadata": {},
   "outputs": [],
   "source": [
    "df.columns=['age','workclass','fnlwgt','education','educationNum','marital-status','occupation','relationship','race','sex','capital-gain','capital-loss','hours-per-week','native-country','income']\n",
    "engine = create_engine('sqlite:///myData.db')\n",
    "df.to_sql('alchemynew', engine)"
   ]
  },
  {
   "cell_type": "code",
   "execution_count": 5,
   "metadata": {},
   "outputs": [
    {
     "name": "stdout",
     "output_type": "stream",
     "text": [
      "<sqlalchemy.engine.result.ResultProxy object at 0x0000003DF5AE9278>\n"
     ]
    }
   ],
   "source": [
    "#update query\n",
    "print(engine.execute('''UPDATE alchemynew SET income = '<30K'WHERE age=39 and workclass=' State-gov' and fnlwgt=77516 and education=' Bachelors' and educationNum=13'''))"
   ]
  },
  {
   "cell_type": "code",
   "execution_count": 6,
   "metadata": {},
   "outputs": [
    {
     "name": "stdout",
     "output_type": "stream",
     "text": [
      "[(0, 39, ' State-gov', 77516, ' Bachelors', 13, ' Never-married', ' Adm-clerical', ' Not-in-family', ' White', ' Male', 2174, 0, 40, ' United-States', '<30K')]\n"
     ]
    }
   ],
   "source": [
    "#after updating the record\n",
    "print(engine.execute('''SELECT * FROM alchemynew\n",
    "WHERE age=39 and workclass=' State-gov' and fnlwgt=77516\n",
    "and education=' Bachelors' and educationNum=13 ''').fetchall())\n"
   ]
  },
  {
   "cell_type": "code",
   "execution_count": 7,
   "metadata": {},
   "outputs": [
    {
     "name": "stdout",
     "output_type": "stream",
     "text": [
      "<sqlalchemy.engine.result.ResultProxy object at 0x0000003DF5AE9390>\n"
     ]
    }
   ],
   "source": [
    "#update query2\n",
    "print(engine.execute('''UPDATE alchemynew\n",
    "SET income = '<30K'\n",
    "WHERE age=38 and workclass=' Private' and fnlwgt=215646\n",
    "and education=' HS-grad' and educationNum=9'''))"
   ]
  },
  {
   "cell_type": "code",
   "execution_count": 8,
   "metadata": {},
   "outputs": [
    {
     "name": "stdout",
     "output_type": "stream",
     "text": [
      "[(2, 38, ' Private', 215646, ' HS-grad', 9, ' Divorced', ' Handlers-cleaners', ' Not-in-family', ' White', ' Male', 0, 0, 40, ' United-States', '<30K')]\n"
     ]
    }
   ],
   "source": [
    "#record after updating\n",
    "print(engine.execute('''SELECT * FROM alchemynew\n",
    "WHERE age=38 and workclass=' Private' and fnlwgt=215646\n",
    "and education=' HS-grad' and educationNum=9''').fetchall())\n"
   ]
  },
  {
   "cell_type": "code",
   "execution_count": 9,
   "metadata": {},
   "outputs": [
    {
     "name": "stdout",
     "output_type": "stream",
     "text": [
      "<sqlalchemy.engine.result.ResultProxy object at 0x0000003DF5AE9470>\n"
     ]
    }
   ],
   "source": [
    "#deleting the record\n",
    "print(engine.execute('''DELETE FROM alchemynew\n",
    "WHERE age=39 and workclass=' State-gov' and fnlwgt=77516\n",
    "and education=' Bachelors' and educationNum=13'''))"
   ]
  },
  {
   "cell_type": "code",
   "execution_count": 10,
   "metadata": {},
   "outputs": [
    {
     "name": "stdout",
     "output_type": "stream",
     "text": [
      "[]\n"
     ]
    }
   ],
   "source": [
    "#after deleting record is empty\n",
    "print(engine.execute('''SELECT * FROM alchemynew\n",
    "WHERE age=39 and workclass=' State-gov' and fnlwgt=77516\n",
    "and education=' Bachelors' and educationNum=13 ''').fetchall())"
   ]
  },
  {
   "cell_type": "code",
   "execution_count": 11,
   "metadata": {},
   "outputs": [
    {
     "name": "stdout",
     "output_type": "stream",
     "text": [
      "<sqlalchemy.engine.result.ResultProxy object at 0x0000003DF5AE9320>\n"
     ]
    }
   ],
   "source": [
    "#deleting the record\n",
    "print(engine.execute('''DELETE FROM alchemynew\n",
    "WHERE age=38 and workclass=' Private' and fnlwgt=215646\n",
    "and education=' HS-grad' and educationNum=9'''))\n"
   ]
  },
  {
   "cell_type": "code",
   "execution_count": 12,
   "metadata": {},
   "outputs": [
    {
     "name": "stdout",
     "output_type": "stream",
     "text": [
      "[]\n"
     ]
    }
   ],
   "source": [
    "print(engine.execute('''SELECT * FROM alchemynew\n",
    "WHERE age=38 and workclass=' Private' and fnlwgt=215646\n",
    "and education=' HS-grad' and educationNum=9''').fetchall())"
   ]
  },
  {
   "cell_type": "code",
   "execution_count": 13,
   "metadata": {},
   "outputs": [
    {
     "name": "stderr",
     "output_type": "stream",
     "text": [
      "IOPub data rate exceeded.\n",
      "The notebook server will temporarily stop sending output\n",
      "to the client in order to avoid crashing it.\n",
      "To change this limit, set the config variable\n",
      "`--NotebookApp.iopub_data_rate_limit`.\n",
      "\n",
      "Current values:\n",
      "NotebookApp.iopub_data_rate_limit=1000000.0 (bytes/sec)\n",
      "NotebookApp.rate_limit_window=3.0 (secs)\n",
      "\n"
     ]
    }
   ],
   "source": [
    "#filer query using LIke\n",
    "print(engine.execute('''SELECT * FROM alchemynew WHERE race LIKE ' W%' ''').fetchall())"
   ]
  },
  {
   "cell_type": "code",
   "execution_count": null,
   "metadata": {},
   "outputs": [],
   "source": []
  }
 ],
 "metadata": {
  "kernelspec": {
   "display_name": "Python 3",
   "language": "python",
   "name": "python3"
  },
  "language_info": {
   "codemirror_mode": {
    "name": "ipython",
    "version": 3
   },
   "file_extension": ".py",
   "mimetype": "text/x-python",
   "name": "python",
   "nbconvert_exporter": "python",
   "pygments_lexer": "ipython3",
   "version": "3.6.4"
  }
 },
 "nbformat": 4,
 "nbformat_minor": 2
}
